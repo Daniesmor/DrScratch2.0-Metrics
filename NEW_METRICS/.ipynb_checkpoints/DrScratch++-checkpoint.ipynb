{
 "cells": [
  {
   "cell_type": "markdown",
   "id": "8d70fdba-def8-4b59-9136-e9c11740fe9c",
   "metadata": {},
   "source": [
    "# DrScratch++ Metrics"
   ]
  },
  {
   "cell_type": "markdown",
   "id": "25ebd74a-b3c6-4e72-8f5f-a7c3e22e08ab",
   "metadata": {},
   "source": [
    "## Documentation"
   ]
  },
  {
   "cell_type": "markdown",
   "id": "d02a48c7-d6dd-4a90-9c4e-779d2c547fc0",
   "metadata": {},
   "source": [
    "### Steps for preproccess the data\n",
    "1. Collect the data from Drive\n",
    "   \n",
    "    1. I have taken the file **CT4ALL-Master Spreadsheet**, and then i have concatenated each tab (from Adamson to Chaffe Toulmin) in order to crate a single spreadsheet. The name of the file that storage this is: *CT4ALL-Master Spreadsheet.csv*\n",
    "    2. After this i have triangulated the master_df with the triang_df, **i have chosen the index *'Game Project Link'* instead of *'Project ID'* because there was projects  with game links and no IDs in the BIG_ct4all_master.csv**\n",
    "\n",
    "2. Extract *Game links* for batch-mode\n",
    "\n",
    "    1. Saved in file **batch_master_links.txt**\n",
    "        - There are several projects with diferent urls but same project names, we have follow the indications add (1).sb3, (2).sb3 etc..\n",
    "  \n",
    "3. Create **Game Attributes** csv:\n",
    "\n",
    "    - There's a problem with the project names, this is that there are several projects with the same name but different links, this affects to the web scrapping script, and all the organzation. The pattern followed for repeated project names it's *name_(1).sb3, name_(2).sb3* and so on. This is why a script now has to be created to synchronize these repeated projects automatically in the csv, taking into account the chosen pattern. (I want to go to sleep)\n",
    "    - After download projects, create a csv with the each url and his project name. (This it's necessary for triangulate with the metrics csv from DrScratch analysis, i mean each url with own name and result\n",
    "\n",
    "   "
   ]
  },
  {
   "cell_type": "code",
   "execution_count": 24,
   "id": "1988e900-6f5c-4a7c-8cde-9e6930a810f8",
   "metadata": {},
   "outputs": [],
   "source": [
    "import pandas as pd"
   ]
  },
  {
   "cell_type": "code",
   "execution_count": 25,
   "id": "2542d27a-ec65-46c9-95c2-824f0d632004",
   "metadata": {},
   "outputs": [],
   "source": [
    "master_df = pd.read_csv('CT4ALL-Master Spreadsheet.csv')\n",
    "triang_df = pd.read_csv('BIG_ct4all_master.csv')"
   ]
  },
  {
   "cell_type": "code",
   "execution_count": 45,
   "id": "ee6328db-ab95-46cc-a46c-897e1cab3106",
   "metadata": {},
   "outputs": [],
   "source": [
    "# 1. Collect the data from Drive\n",
    "\n",
    "# Let's index in both master_df and triang_df (this is important for combine_first())\n",
    "master_df.set_index('Game Link', inplace=True)\n",
    "triang_df.set_index('Game Link', inplace=True)\n",
    "\n",
    "# Before fill the missing Game Genre values of master_df we have to drop duplicates of both dfs (Dup: exactly same rows)\n",
    "master_df.drop_duplicates(keep='last', inplace=True)\n",
    "triang_df.drop_duplicates(keep='last', inplace=True)\n",
    "master_df.reset_index(inplace=True)\n",
    "triang_df.reset_index(inplace=True)\n",
    "\n",
    "\n",
    "# Fill the missing values of Game Genre with the triang_df data\n",
    "master_df['Game Genre'] = master_df['Game Genre'].combine_first(triang_df['Main Genre'])\n",
    "\n",
    "\n",
    "# Remove rows with the same Game Link\n",
    "master_df = master_df.drop_duplicates(subset=['Game Link'])\n",
    "master_df = master_df.dropna(subset=['Game Link'])\n",
    "master_df.to_csv('clean_master_ct4all.csv')"
   ]
  },
  {
   "cell_type": "markdown",
   "id": "64017de9-55ca-43f8-b139-058b4e5497ed",
   "metadata": {},
   "source": [
    "### 2. Extract *Game links* for batch-mode"
   ]
  },
  {
   "cell_type": "code",
   "execution_count": 46,
   "id": "aa661ac1-a0e3-4136-9ee2-a1d61ac460f3",
   "metadata": {
    "scrolled": true
   },
   "outputs": [],
   "source": [
    "# 2. Extract *Game links* for batch-mode\n",
    "game_links = master_df['Game Link']\n",
    "game_genre = master_df['Game Genre']\n",
    "\n",
    "game_links = game_links.astype(str) + \"/editor/\"\n",
    "game_links = game_links.str.replace('//', '/', regex=False)\n",
    "game_links.to_csv('batch_master_id.txt', index=False, header=False)"
   ]
  },
  {
   "cell_type": "markdown",
   "id": "f8eb8351-6bd2-4ba0-b479-9231297147fd",
   "metadata": {},
   "source": [
    "### 3. Create **Game Attributes** csv:"
   ]
  },
  {
   "cell_type": "markdown",
   "id": "a6a133de-7bd0-4d39-a697-02ffc8dd342d",
   "metadata": {},
   "source": [
    "#### Create names with pattern for avoid repeated names"
   ]
  },
  {
   "cell_type": "code",
   "execution_count": 112,
   "id": "10d29649-94d5-47ee-966e-c0e796c02835",
   "metadata": {},
   "outputs": [
    {
     "name": "stdout",
     "output_type": "stream",
     "text": [
      "welkn;kmCX 'lkSD ow EV;Iw oP iwb'lkNSFPVON.sb3\n",
      "['Solar Radiation.sb3', 'Dat Boi Gets Around.sb3', 'Climate tower defense.sb3', 'Untitled-3.sb3', 'Welcome to the Greenhouse.sb3', 'Infrared Invasion.sb3', 'Deforestation game.sb3', 'Save The World.sb3', 'extreme climate.sb3', 'Carbon Destroyer.sb3', 'Eat The Carbon by Barry and Kyrene.sb3', 'Preventing Climate Change Emerald.sb3', \"Alex and Hannah's project.sb3\", 'Save The Polar Bear From Climate Change.sb3', 'Save Blue Town from Rising Temperature.sb3', 'The Greenhouse Effect.sb3', 'Pingu Needs Help.sb3', 'What can we do?.sb3', 'Pool Day.sb3', 'The Carbon Journey.sb3', 'Climate Change Choose Your Own Adventure.sb3', 'This World Is Crumbling T.W.I.C..sb3', 'Polar bear emerald3a.sb3', 'Pollution Game.sb3', 'The Green House Game.sb3', 'CO2 journey.sb3', 'PONG CLIMATE CHANGE.sb3', 'planting trees game.sb3', 'Climate Change Game.sb3', 'Save My House.sb3', 'Climate Change Game!.sb3', 'Help Gobo Save the World.sb3', \"Carlos's Guide to Climate Change.sb3\", 'Ruler of the City.sb3', 'Save the polar bear.sb3', \"Avery's Life.sb3\", 'Climate Change- Ice Melting.sb3', 'Flood Dodge.sb3', 'Lumberjack simulator.sb3', 'Adventures Through Ice.sb3', 'Climate Change Mario.sb3', 'GAME.sb3', 'Greenhouse Captivity.sb3', 'Co2 Survival.sb3', 'What humans can do.sb3', 'Saving the Polar Bears.sb3', 'Climate Change Project.sb3', 'Adeventures of Albedude ©.sb3', 'The Real Life Disaster.sb3', 'Heat absorber.sb3', 'CO2 Stopper Copter.sb3', 'Stop Global Warming.sb3', 'Penguin Paradise.sb3', 'Save The Trees.sb3', 'World and Climate Changing Game.sb3', 'The Carbon Challenge.sb3', 'AirMania.sb3', 'EcoCash.sb3', 'Save the Climate.sb3', 'Save the Atmosphere!.sb3', 'Stop Global Warming_(2).sb3', 'Save the Planet!.sb3', 'IvGroup7s2 Max Dylan.sb3', 'Jump Into Climate Change!.sb3', 'Save The Atmosphere.sb3', 'Pollutionville Game!.sb3', 'World and Climate Changing Game_(2).sb3', 'Decoposition.sb3', 'The Night sky.sb3', 'ice saver.sb3', 'CO2 Killer.sb3', 'Cloud Catching.sb3', 'Global Run-2.sb3', \"Stacy's Adventure.sb3\", 'Carbon in the Water Cycle.sb3', 'Molecule Game.sb3', 'co2 game.sb3', 'Space Game 1: Climate Change.sb3', 'Melting Glaciers.sb3', \"Clara and Mira's Project.sb3\", 'Climate Change Cha Cha Slide.sb3', 'The Climate Game.sb3', 'CO2 destroyer.sb3', 'Save The Trees_(2).sb3', 'smol bean.sb3', 'Yum Project.sb3', 'PLANTING TREES.sb3', 'The Choice.sb3', 'CARBON CLICKING (Arjun, the other one was screwed up so I made a new one).sb3', 'puffs of smoke.sb3', 'Forest.sb3', 'government simulator.sb3', 'You Can Stop Climate Change, One Shopping Trip At A Time!.sb3', 'Car Bike Atmosphere.sb3', 'Plant the Trees!.sb3', 'Julian and Zaidian Avoid the Fuels.sb3', 'Deforestation Game.sb3', 'Climate Change Game_(2).sb3', 'Garden Simulator 2k17.sb3', 'Polluted Park.sb3', 'The Chosen One.sb3', 'The Awesome Lamp Game.sb3', 'Joe and Aidan climate change slingshot thingy.sb3', 'Cut it out.sb3', 'Trees vs LumberJack.sb3', \"Don't Burn Up!.sb3\", 'Climate Control.sb3', 'Factory Pollution.sb3', 'Climate Change choices.sb3', 'Climate Pong.sb3', \"Aidan and Yuval's game.sb3\", 'Project electro.sb3', 'Scratch Climate Change Project.sb3', \"Abby's choices.sb3\", 'Carbon Clicker.sb3', '`.sb3', 'Climate Control_(2).sb3', 'Save The Polar Ice Caps remix copy.sb3', 'Reducing Meat Consumption.sb3', 'Substantial Farming Simulator.sb3', 'Dont break the ice remix emily and maddie.sb3', 'Science Project.sb3', '`_(2).sb3', 'Preventing Greenhouse Gases With Paul the Poler Bear.sb3', 'Comfortable Climate :).sb3', 'New School Project.sb3', 'Saving The Earth One Seed At A Time.sb3', 'Science Project_(2).sb3', 'Crossing Guard of the Atmosphere.sb3', 'Save Us.sb3', 'Science Project radiation.sb3', 'Climate Valley.sb3', 'carbon crab.sb3', 'Carbon Maze.sb3', 'Earth vs. Floods.sb3', 'Modes of Transportation affects on climate change.sb3', 'Polar Saving.sb3', 'Boo teaches Pietro about Climate Change.sb3', 'Climate Clicker (Realsed).sb3', 'systems from scratch.sb3', 'Climate Change With Cars and CO2.sb3', 'CO2 Crusher.sb3', 'Save Climate city!.sb3', 'Can you balance climate change?.sb3', 'Project.sb3', 'Everyday Life and Climate Change.sb3', 'WACK-A-GAS.sb3', 'Save The Fish.sb3', \"Don't Get Burned!.sb3\", 'The Climate Change Game.sb3', 'MaddieMaeveRebeccaAnimationChallenge1.sb3', 'SophieDante Animation Challenge.sb3', 'Jamari Alex Animation Challenge.sb3', 'Nic Austin Animation Challenge.sb3', 'Grayson Josh Animation Challenge.sb3', 'Helen Luci Animation Challenge.sb3', 'ERIC AND ROSIE ANIMATION CHALLENGE.sb3', 'Rebecca, Chloe Animation Challenge.sb3', 'Lex, Gigi Animation Challenge.sb3', 'JakeJaleikaAnimationChallenge.sb3', 'Ella and Arsema animation Challenge.sb3', 'OliviaEmilyAnimaionChalllenge.sb3', 'Edie Bella Animation Challenge.sb3', 'Hudson Animation Challenge.sb3', 'SofiaKevinAnimationChallenge.sb3', 'trinity _ emma animation challenge.sb3', 'Kori-Reign Kourtney Animation Challange.sb3', 'Jadon Ethan animation challenge.sb3', 'Kevin_Ben Animation Challenge.sb3', 'Project Climate Change-Sarah and Shuva.sb3', 'Project I guess.sb3', 'Science Project_(3).sb3', 'Climate Pong_(2).sb3', 'Nawal Noia and Alena.sb3', 'Co2 Pong game.sb3', 'Co2 Game.sb3', 'Greenhouse Affect.sb3', 'albedo melting ice.sb3', 'Heat Havoc.sb3', 'Greenite: The Greenining.sb3', 'Climate Change Ocean Acidification game.sb3', \"David + Nareg's Tree CO2 Simulator - 2K18.sb3\", 'Solar Pong.sb3', 'Furnace Wiz (Official Deluxe Edition).sb3', 'Drive the Planet to an End.sb3', 'make the trees dissapear.sb3', 'Sun Ray Shielder.sb3', \"welkn;kmCX 'lkSD ow EV;Iw oP iwb'lkNSFPVON.sb3\", 'Save the Sky.sb3', 'Transportation Pollution.sb3', 'Dat Albedo.sb3', 'Super Saver of Exciting Earth.sb3', 'Rising Co2 Level.sb3', 'Save the Shellfish.sb3', 'Co2 vs. shellfish.sb3', 'Untitled-3_(2).sb3', \"Andrew & Will's Scratch Game: Save The World!.sb3\", 'Recycle-man.sb3', 'Climate Clicker.sb3', 'Deforestation Disaster.sb3', 'Troubled Waters.sb3', \"Potato's adventure.sb3\", 'The Polar Bear.sb3', 'Flood the World.sb3', 'Crab runner.sb3', '2 player albedo game.sb3', 'Climate Clicker_(2).sb3', 'Plant Man IV.sb3', 'The Battle Against Radiation.sb3', 'Cars and co2.sb3', 'Greenhouse Effect Pong Game.sb3', 'factory.sb3', 'Forest Fire Scratch Game Akash Adrien.sb3', 'Click the cars!.sb3', 'Untitled-2.sb3', 'Guardian of the Forest.sb3', 'Truegreen7.sb3', 'Carbon Game by Ria and Sarah.sb3', 'Carbon Clouds.sb3', 'Fortnite: Climate Change Edition.sb3', 'Climate Change project.sb3', 'Science Game.sb3', 'TreezRKool.sb3', 'Collect Co2.sb3', 'Climate change project:BEAR MAZE.sb3', 'Choose Your Adventure.sb3', 'Co2 Choices.sb3', 'Soccer Pong.sb3', 'Building wackamole in the city of Hainsboro.sb3', 'Climate change game.sb3', 'Co2 Catch.sb3', 'Pet Earth!.sb3', 'new maze.sb3', 'Cow catch game.sb3', 'Plants vs Co2.sb3', 'Save the earth.sb3', 'YOUNES AND MARAT QUIZ.sb3', 'ice tray albedo edition.sb3', 'Climate Change Catch Game.sb3', 'Tropho Farm.sb3', 'THE LIFE CHANGING CLIMATE GAME (CLICK ON THIS).sb3', 'Climate change.sb3', 'Elsa saves the world alebdo style.sb3', 'Albedo Barrier.sb3', 'Save Greenhouse Gases.sb3', 'Carbon Run.sb3', 'Hit the Target.sb3', 'catch the CO2 by Olivia and Polina.sb3', 'THE GLOBAL WARMING game!.sb3', 'Trees vs. The World.sb3', 'beat the heat.sb3', 'kill the CO2.sb3', 'Pico Saves The Word.sb3', 'Polar Bear Fixes Climate Change.sb3', 'Super Carbon Bros.sb3', 'Destroy the World.sb3', 'Ice Pong.sb3', 'Tree1 Climate Game.sb3', 'Carbon Clicker_(2).sb3', 'Save The Trees_(3).sb3', \"The Best Game You've Ever Played *No Guarentee.sb3\", 'Future C02.sb3', 'Sinking Penguin.sb3', 'Save the Animals!.sb3', 'Car or Bike?.sb3', 'Save the Fishy.sb3', 'The Fish Tank.sb3', 'Carbon Footprint project.sb3', 'Adventure Through the House! - Climate Change.sb3', 'Sophia and Mar Deforestation Game.sb3', 'Renewable Energy Defenders.sb3', 'venice overflowww.sb3', 'Zampieri Zucchero Project.sb3', 'SuperSeaTurtleBro..sb3', 'Farmer Sam and His Cows.sb3', 'Leaf Me Alone Carbon.com.net.org.io.exe.mp3.mp4.sb3', 'trees and stuff.sb3', 'Tree Project - Elizabeth and Victoria.sb3', 'save the penguin!.sb3', \"Abby and Grace's project.sb3\", 'Ice Cap Hero!.sb3', 'Scratch Project: Helen & Condoleezza.sb3', 'Help Save the Earth!!!.sb3', 'plants help the enviroment.sb3', 'Penguin game.sb3', 'Penguin Saver- By Holland and Andrew.sb3', 'Dumphy-Manfredi, Boris Scratch Project.sb3', 'Pollution Control.sb3', 'Class Project Sage and Nora.sb3', 'DestroyingTheWorld.inc.exe..sb3', 'Save the Penguins!!!.sb3', 'Mak and Oisin GreenQuest Section 3.sb3', 'Deforestation Game_(2).sb3', 'Tree Cutting Simulator.sb3', 'FactorySimulator.sb3', \"Sophie and Hannah's Climate Game!!!!!!!.sb3\", 'Windmill project ava and lilly scratch.sb3', 'CO2 Game.sb3', 'Deforestation By- Esther, Emily, Zero.sb3', 'sam.sb3', 'Climate change- Emari Wakefield and Julia Machado.sb3', 'Island Fish Rescue.sb3', 'gobo global harm.sb3', 'Save the Amazon!.sb3', 'Save the World from Co2!.sb3', 'Mitigation Master!.sb3', 'Take Action! - heymynamestrey.sb3', 'Climate Change Pong Finished Version.sb3', 'Climate change game-jassec.sb3', 'Chainsaw guy.sb3', 'Untitled-2_(2).sb3', 'Danilo and Alba Trees climate change.sb3', 'Fight Wanda the Evil Lumberjack.sb3', \"PAPA PETEY'S PRODUCT PRODUCTIONERIA.sb3\", 'Factory Builder 2000.sb3', 'Energy Efficiency.sb3', 'Cycle of Consumerism.sb3', 'Climate Change Game_(3).sb3', 'Episode (Carbon edition).sb3', 'Sugar Maple Survival.sb3', 'CAUSATION EVASION.sb3', 'This Sea Level Rise is Terrible.sb3', 'Climate Change Tetris.sb3', 'Climate Change Game_(4).sb3', 'Tetris  game.sb3', 'CO2 Footprints.sb3', 'Dont Go With The Flow.sb3', 'CO2 Drop.sb3', 'Climate Change Game_(5).sb3', 'Become the Best Lumberjack.sb3', 'Scratch Project Talie and James.sb3', 'Cool Climate Game.sb3', 'Climate Change: Taking Action.sb3', 'Climate Change Game_(6).sb3', 'Bronson and Jacek Scratch Project.sb3', 'Fortnite.sb3', 'Dodge, Duck and Jump.sb3', 'Reduce dat boi Co2 in the Atmosphere.sb3', \"Deforestation Hailey and Remi's Game.sb3\", 'Carbon Annihilation.sb3', 'Tesla CO2 Emissions.sb3', 'Carbon Game.sb3', 'Climate Change Simulation.sb3', 'CO2 fr.sb3', 'This Sea Level Rise is Terrible_(2).sb3', 'What Should you do?.sb3', 'Eujin and Julia.sb3', 'The Water Cycle (Lucy & Celia).sb3', 'Yinyao Duan.sb3', 'Aman and Brady Project.sb3', \"Zara's Co2 Adventure Minaya and Daniel.sb3\", 'Game John And Harry.sb3', 'Artem Tsukasa.sb3', 'Sydney _ Daniella game.sb3', 'Brooke_Miranda.sb3', \"Jack and Zach's Epic Adventure.sb3\", 'Rhea, Leila, and Isabelle Climate Change Game.sb3', 'SOPHIA AND MADDIE.sb3', 'Ahmet-Ofer.sb3', 'Melica, Jaycee, Natsuka Climate Change Game.sb3', 'STOP THOSE CARS!!!!!.sb3', 'Tom and Mahbod Climate Change Game.sb3', 'Gabe Umut-2.sb3', 'Kenny Michael.sb3', 'Neo Jonathan.sb3', 'Super Planty Bros (Drew and Sasha).sb3', 'Sarita Gabe Game.sb3', 'Tess and Nicole mitigame.sb3', 'Patrick and Elaine.sb3', 'Nathan and Edo Cookie Game.sb3', 'Brian and Kyle.sb3', 'KARINE AND LANCE.sb3', 'Zach and Nico.sb3', 'Maggie and Shveni- Water Cycle Game.sb3', 'Sammie and Alex Carbon Cycle Project.sb3', 'Latifah M.,Sophie N.,Ava M..sb3', 'DO NOT PLAY THIS GAME. PLAY THE OTHER ONE!.sb3', 'Joci and Becky Climate Change Games.sb3', 'Erez and Erik.sb3', 'Mitigation - Elias Daniel- F Block.sb3', 'Allison Elizabeth-2.sb3', 'Isabella and Sarah-3.sb3', 'scratch game Liz, Ava.sb3', 'sean and josh.sb3', 'Mark Jeremy.sb3', 'Jocey and Natasha.sb3', 'Ellie and Talia Untitled-5.sb3', 'Harrison And Constantinos.sb3', 'Anjali and Mariana-3.sb3', 'heewon and audrey.sb3', 'Talia Celia.sb3', 'Zach Chase game.sb3', 'Daniel Scott.sb3', 'David & Peter.sb3', 'EszterJordan.sb3', 'Evan and Mitch.sb3', 'Isabel and Masha.sb3', 'Patrick and Sawyer Climate Game.sb3', 'Aji Jesu Game.sb3', 'Becca and Alana Climate change.sb3', 'Aris and Rana.sb3', \"Kendel and Ben's game.sb3\", 'Guy+Sonia-Lower the Carbon!.sb3', \"Isaiah and Nelson's Project.sb3\", \"Julia and Meri's Game.sb3\", 'maya lucy water cycle.sb3', 'Nora + Sage.sb3', 'Sydney Forristall and Samuel Gordon.sb3', 'Sofi S..sb3', 'Untitled-3_(3).sb3', 'Sydra and Nayla.sb3', 'Austin & Clarence.sb3', 'Brendan and Hallel.sb3', \"Bryan and Mark's Game Project.sb3\", 'Joe and Charlie Final Project.sb3', 'Humanity vs Carbon vs Plants- Nolan and Chima.sb3', \"Franki and Elena's game.sb3\", 'Emily and haley Greenhouse effect.sb3', 'Leyla and Erin-3 remix remix.sb3', 'Mariam Jenny.sb3', 'Lilli and Shanae Climate Change Game.sb3', 'Amanda and Joyce-2.sb3', 'Climate Change Game Hannah and Andrew.sb3', 'Yvonne and Esha.sb3', 'Roberto and Ethan  -.sb3', '`_(3).sb3', 'Gil Avieli and Sam Atalla.sb3', 'Hagar and Sephora Reforestation.sb3', 'Zhimin and Isabella.sb3', 'Shayan and Jeff.sb3', 'Yuval and Rebecca Water cycle.sb3', 'Untitled.sb3', 'Saving earth with quiz.sb3', 'Mitigation Game.sb3', 'Penguin Game.sb3', 'Brick Breaker remix.sb3', 'Carbon Capture.sb3', 'climate change sort game.sb3', 'Scratch Project.sb3', 'Industry Interlopers.sb3', 'climate change project finished.sb3', 'Scratch Trivia Game remix.sb3', 'Reducing Emissions game.sb3', 'Untitled-2_(3).sb3', 'Global Warming Game.sb3', 'climate change pong.sb3', 'Factory Game remix.sb3', 'Climate Change Game_(7).sb3', 'jabby.sb3', 'Atmosphere Pong.sb3', 'scratch project.sb3', 'Reducing carbon maze.sb3', 'Climate change game!!!!.sb3', 'Scratch CO2 Project.sb3', \"Molly and Alishba's scratch science game  copy-2 copy copy copy.sb3\", 'Space CO2.sb3', 'Picking Up Trash Helps The World: Mitigation.sb3', 'Climate Change and the CO2 Succa.sb3', 'co2 emmision game.sb3', 'Greenhouse Gases Game.sb3', 'Climate Change - Caitlin & Irene.sb3', 'Cole and Ryan.sb3', 'ENOZO STOPPER.sb3', 'Falling Fruit Fiesta.sb3', 'GHGs Game.sb3', 'Hydrosphere Box Game.sb3', 'help the polar bear.sb3', 'Ryan D and Weller B CC Game.sb3', 'Preventing CO2 from coming into the Earth.sb3', 'Climate Change Project: Saving the penguin.sb3', 'Soccer Game.sb3', 'Rambunctious Recycling.sb3', 'Untitled_(2).sb3', 'CARbon Killer.sb3', 'Adventures of TreeGuy.sb3', 'Carbon Run_(2).sb3', 'Beat the Robot.sb3', 'Climate Change in Life Decision.sb3', 'Earth Vs Climate change Dodge ball game.sb3', 'New Day, New Fish.sb3', 'Super Chad Bro..sb3', 'Cooking Mama.sb3', 'Climate Change Game_(8).sb3', 'Save the Trees!.sb3', 'Save the Oceans!.sb3', 'Climate Jumper.sb3', 'jumpy tree.sb3', 'CO2 Stopper.sb3', 'Carbon Footprint Game.sb3', 'New Science Scratch.sb3', 'Saving Squishy.sb3', 'Choices of the Player.sb3', 'Unwanted Co2.sb3', 'Car.sb3', 'Overloading Our Carbon Reservoirs.sb3', 'Happy Fishing!.sb3', 'Reducing Ocean Acidification.sb3', 'Climate Change Project_(2).sb3', 'Balancing Temperature.sb3', 'Collect the CO2.sb3', 'Untitled-3_(4).sb3', 'CCTD - (Climate Change Tower Defense).sb3', 'climate change game.sb3', 'Reforestation and Deforestation- Saving this land.sb3', 'Ocean Defender.sb3', 'The \"Fun\" Ocean Game.sb3', 'Ice Blocker Climate Change Game.sb3', \"DON'T TOUCH THE WATER.sb3\", 'Catch the CO2.sb3', 'Climate Clikerz.sb3', 'Albedo Pong.sb3', 'Log Samurai.sb3', 'climate change highway.sb3', 'Save The Ocean: A Crab Game.sb3', 'Save the Earth.sb3', 'Fight the Pollution!.sb3', 'Climate Change Game_(9).sb3', 'Carbon Emmisions.sb3', 'Save the Polor Bear.sb3', 'saving energy.sb3', 'Car Game.sb3', 'Save the penguin :).sb3', '_.sb3', 'Factory Game Thalia and Jehan.sb3', 'Loggers.sb3', 'Global Warming.sb3', 'Avoid the clothes.sb3', 'Untitled-2_(4).sb3', 'Water Levels-LilyStaceyHenri.sb3', 'Albedo Project.sb3', 'JacksonNatalieproject.sb3', 'Bikes over cars.sb3', 'CL, LL climate change game.sb3', 'Reflecting Ice Project.sb3', 'A most serious and mature electronic game.sb3', 'Water.sb3', 'Catch the CO2_(2).sb3', 'the climate change simulation.sb3', 'CO2 Run.sb3', 'Tree Doggo.sb3', 'city creator.sb3', 'IAN RASAMAT.sb3', 'Game Thingy.sb3', \"Rebecca and Ava's game.sb3\", 'Jonas Kaden BETA.sb3', 'Tigran and David Game.sb3', \"Toni and Elisabeth's Game.sb3\", 'Atmosphere game.sb3', \"Lizzy & Sydney's Game.sb3\", 'Be Green ($) or Be Clean (environmentally speaking).sb3', 'tree game.sb3', 'choosey choices.sb3', \"Garrett and Justin's banger project.sb3\", \"Katharine and Carla's Game.sb3\", \"Farmer Joe's Adventures (Annie and Josh).sb3\", 'Forest Defender Duo.sb3', 'Climate change Dari A-F.sb3', 'Lasagna feat. Ludacris.sb3', \"Brendan and Nathan's project.sb3\", 'Michael, Katya, Phillip project.sb3', \"Jackson and Q's Scratch Project.sb3\", \"Rose and Liv's pretty slick game.sb3\", \"Jocelyn and Hannah's project.sb3\", 'deforestation nationnnn.sb3', 'Planet-Saving with Parker! (transportation->strategy.sb3', 'Maroon2018C9.sb3', 'CO2 emissions Game.sb3', \"Lily and Liza's Project Deforestation.sb3\", 'Terrific Tree.sb3', 'Fighting Emissions.sb3', 'qsd.sb3', 'Save the Ocean!.sb3', 'save the polar bears.sb3', 'RetroMetro.sb3', \"Ella and Olivia's Game.sb3\", 'Liam and Sam scratch project.sb3', 'Logan and Braiden scratch proj D block.sb3', 'Save the polar bears NOW!.sb3', 'Tyson.sb3', 'Climate Change with BOIKS.sb3', 'Co2 Game_(2).sb3', 'Capture the CO2.sb3', 'Climate Change.sb3', 'Iceberg Mania.sb3', '♥crazy cows♥.sb3', 'Cloud collectors.sb3', 'ocean climate.sb3', 'Lumberjack Attack.sb3', 'Building A House.sb3', 'trash collect.sb3', 'A Day of Choices.sb3', 'Carbon Capitalist.sb3', 'Deflecting UV Rays.sb3', 'Meat Defeat!!!.sb3', 'Harsh Tree Why Me..sb3', 'Climate Change Game_(10).sb3', 'FartMan™.sb3', 'reducing co2 maze by madi and paige.sb3', 'Co2 Clouds Game.sb3', 'Deforestation.sb3', 'Trees vs CO2.sb3', 'Scuba dive to save the world.sb3', 'Christmas Chaos.sb3', 'Climate Change Game-2.sb3', 'save the ice blocks.sb3', 'Save the Trees!!!.sb3', 'Hurricane Paddle.sb3', 'Carbon Capture_(2).sb3', 'Help the Turtle!.sb3', 'Chasing CO2.sb3', 'Global Warming: The Game.sb3', 'Catch the Monkey.sb3', 'birdygethem.sb3', 'Ocean CO2.sb3', 'capture the CO2.sb3', 'snowflake collect.sb3', 'Cloud Chaser.sb3', 'Roy: A Life Well Lived.sb3', 'STORY.sb3', '✨ Cow Fartopia ✨ [DEMO].sb3', 'Co2 DASH.sb3', 'climate change game_(2).sb3', 'Save Snows and Pennys Home! (Multiplayer).sb3', 'Deforestation_(2).sb3', 'Impacts on wildlife.sb3', 'log jumper.sb3', 'Oxygen VS CO2-Climate Change.sb3', 'Factories Taking Over The Atmosphere.sb3', 'Co2 Collector.sb3', 'Save the City!.sb3', 'Saving Antarctica.sb3', 'polar blast.sb3', 'climate change Co2.sb3', 'COLLECT THE CO2.sb3', 'GAME SUMMERS TIRABASSI.sb3', 'Time Is Fuel.sb3', 'Temperature Changes.sb3', 'SpAcE pOnG.sb3', 'Untitled_(3).sb3', 'Carbon Catcher.sb3']\n"
     ]
    }
   ],
   "source": [
    "# Now we have to create a file with the url and his respective project name\n",
    "# this will be usefull por tringulate then with the metrics csv\n",
    "# NOTE: batch_master_id.txt are the urls and output_checker are the prjct names\n",
    "\n",
    "# Read output_checker.txt (this file contains file names in the same order as batch_master_id)\n",
    "file_path = 'output_checker'\n",
    "with open(file_path, 'r') as file:\n",
    "    names = file.readlines()\n",
    "# Remove the new line char \n",
    "names_list = [name.strip() for name in names]\n",
    "# Process if theres no name \".sb3\"\n",
    "names_list = [\"_.sb3\" if name == \".sb3\" else name for name in names_list]\n",
    "# Remove extension sb3 in order to reformat the name\n",
    "names_list = [name.replace(\".sb3\", \"\") for name in names_list]\n",
    "\n",
    "# CREATE IDENTIFIER FOR REPEATED PROJECT NAMES -> repeated_(1).sb3, repeated_(2).sb3...\n",
    "names_freq = {}\n",
    "non_rep_names = []\n",
    "\n",
    "for name in names_list:\n",
    "    if name in names_freq:\n",
    "        names_freq[name] += 1\n",
    "    else:\n",
    "        names_freq[name] = 1\n",
    "    if names_freq[name] != 1:\n",
    "        non_rep_names.append(f\"{name}_({names_freq[name]}).sb3\")\n",
    "    else: \n",
    "        non_rep_names.append(f\"{name}.sb3\")\n",
    "\n",
    "print(non_rep_names[187])\n",
    "print(non_rep_names)\n"
   ]
  },
  {
   "cell_type": "code",
   "execution_count": 106,
   "id": "3a06f472-c110-47f4-9908-1fbb228aa6e9",
   "metadata": {},
   "outputs": [],
   "source": [
    "# Script for delete non used projects\n",
    "sb3_path = os.path.join(\".\",\"projects_sb3\")\n",
    "for root, dirs, files in os.walk(sb3_path):\n",
    "    for file in files:\n",
    "        if file not in non_rep_names:\n",
    "            file_path = os.path.join(root, file)\n",
    "            os.remove(file_path)\n",
    "\n",
    "import re\n",
    "# Now we can clean the names of speacial chars bedore put it in the DF\n",
    "non_rep_names = [re.sub(r\"[^a-zA-Z0-9\\s]\", \"\", name) for name in non_rep_names]\n"
   ]
  },
  {
   "cell_type": "markdown",
   "id": "1a3a32d7-55d3-4160-830f-02a2bc00df9b",
   "metadata": {},
   "source": [
    "#### Create a pd column for check if that project name exists in the folder (NEW_METRICS/projects_sb3"
   ]
  },
  {
   "cell_type": "code",
   "execution_count": 107,
   "id": "5339afca-807f-4bea-adc2-b424aa7f87c1",
   "metadata": {},
   "outputs": [],
   "source": [
    "import os\n",
    "\n",
    "# Bool list, according the order or non_rep_names\n",
    "project_exists = [os.path.exists(os.path.join(\".\", \"projects_sb3\",name)) for name in non_rep_names]"
   ]
  },
  {
   "cell_type": "code",
   "execution_count": 108,
   "id": "2ab225e0-7753-463c-afda-c89a106a46fc",
   "metadata": {},
   "outputs": [
    {
     "name": "stdout",
     "output_type": "stream",
     "text": [
      "                                                   URL  \\\n",
      "0    https:/scratch.mit.edu/projects/129150753/editor/   \n",
      "1    https:/scratch.mit.edu/projects/131382669/editor/   \n",
      "2    https:/scratch.mit.edu/projects/129532769/editor/   \n",
      "3    https:/scratch.mit.edu/projects/130705606/editor/   \n",
      "4    https:/scratch.mit.edu/projects/129151851/editor/   \n",
      "..                                                 ...   \n",
      "636  https:/scratch.mit.edu/projects/182648156/editor/   \n",
      "637  https:/scratch.mit.edu/projects/183065640/editor/   \n",
      "638  https:/scratch.mit.edu/projects/182196521/editor/   \n",
      "639  https:/scratch.mit.edu/projects/182188379/editor/   \n",
      "640  https:/scratch.mit.edu/projects/182376301/editor/   \n",
      "\n",
      "                              Name  Exists      Game Genre  \n",
      "0              Solar Radiation.sb3    True  Unplayable/nan  \n",
      "1          Dat Boi Gets Around.sb3    True        Quiz/nan  \n",
      "2        Climate tower defense.sb3    True          Action  \n",
      "3                   Untitled-3.sb3    True  Unplayable/nan  \n",
      "4    Welcome to the Greenhouse.sb3    True          Action  \n",
      "..                             ...     ...             ...  \n",
      "636               Time Is Fuel.sb3    True    Storytelling  \n",
      "637        Temperature Changes.sb3    True          Action  \n",
      "638                 SpAcE pOnG.sb3    True          Action  \n",
      "639               Untitled_(3).sb3    True             NaN  \n",
      "640             Carbon Catcher.sb3    True             NaN  \n",
      "\n",
      "[640 rows x 4 columns]\n"
     ]
    }
   ],
   "source": [
    "games_attr = pd.DataFrame({'URL': game_links, 'Name': non_rep_names, 'Exists': project_exists,'Game Genre': game_genre})\n",
    "\n",
    "games_attr.to_csv('games_attr.csv')\n",
    "# Mostrar el DataFrame\n",
    "print(games_attr)"
   ]
  },
  {
   "cell_type": "code",
   "execution_count": null,
   "id": "df49edb3-1cd8-4ff5-a803-469817ba9fd3",
   "metadata": {},
   "outputs": [],
   "source": []
  },
  {
   "cell_type": "code",
   "execution_count": null,
   "id": "76ab5ae9-7a0e-4eec-8ac2-261cd35f702e",
   "metadata": {},
   "outputs": [],
   "source": []
  },
  {
   "cell_type": "code",
   "execution_count": null,
   "id": "67d065ac-8f13-4cde-8235-ded5b7340039",
   "metadata": {},
   "outputs": [],
   "source": []
  }
 ],
 "metadata": {
  "kernelspec": {
   "display_name": "Python 3 (ipykernel)",
   "language": "python",
   "name": "python3"
  },
  "language_info": {
   "codemirror_mode": {
    "name": "ipython",
    "version": 3
   },
   "file_extension": ".py",
   "mimetype": "text/x-python",
   "name": "python",
   "nbconvert_exporter": "python",
   "pygments_lexer": "ipython3",
   "version": "3.9.19"
  }
 },
 "nbformat": 4,
 "nbformat_minor": 5
}
