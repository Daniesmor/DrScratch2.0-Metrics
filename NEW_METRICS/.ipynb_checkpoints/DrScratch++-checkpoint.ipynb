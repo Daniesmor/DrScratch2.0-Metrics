{
 "cells": [
  {
   "cell_type": "markdown",
   "id": "8d70fdba-def8-4b59-9136-e9c11740fe9c",
   "metadata": {},
   "source": [
    "# DrScratch++ Metrics"
   ]
  },
  {
   "cell_type": "markdown",
   "id": "25ebd74a-b3c6-4e72-8f5f-a7c3e22e08ab",
   "metadata": {},
   "source": [
    "## Documentation"
   ]
  },
  {
   "cell_type": "markdown",
   "id": "d02a48c7-d6dd-4a90-9c4e-779d2c547fc0",
   "metadata": {},
   "source": [
    "### Steps for preproccess the data\n",
    "1. Collect the data from Drive\n",
    "   \n",
    "    1. I have taken the file **CT4ALL-Master Spreadsheet**, and then i have concatenated each tab (from Adamson to Chaffe Toulmin) in order to crate a single spreadsheet. The name of the file that storage this is: *CT4ALL-Master Spreadsheet.csv*\n",
    "    2. After this i have triangulated the master_df with the triang_df, **i have chosen the index *'Game Project Link'* instead of *'Project ID'* because there was projects  with game links and no IDs in the BIG_ct4all_master.csv**\n",
    "\n",
    "2. Extract *Game links* for batch-mode\n",
    "\n",
    "    1. Saved in file **batch_master_links.txt**\n",
    "        - There are several projects with diferent urls but same project names, we have follow the indications add (1).sb3, (2).sb3 etc...\n",
    "  \n",
    "3. After download projects, create a csv with the each url and his project name. (This it's necessary for triangulate with the metrics csv from DrScratch analysis, i mean each url with own name and result\n",
    "\n",
    "   "
   ]
  },
  {
   "cell_type": "code",
   "execution_count": 24,
   "id": "1988e900-6f5c-4a7c-8cde-9e6930a810f8",
   "metadata": {},
   "outputs": [],
   "source": [
    "import pandas as pd"
   ]
  },
  {
   "cell_type": "code",
   "execution_count": 25,
   "id": "2542d27a-ec65-46c9-95c2-824f0d632004",
   "metadata": {},
   "outputs": [],
   "source": [
    "master_df = pd.read_csv('CT4ALL-Master Spreadsheet.csv')\n",
    "triang_df = pd.read_csv('BIG_ct4all_master.csv')"
   ]
  },
  {
   "cell_type": "code",
   "execution_count": 36,
   "id": "ee6328db-ab95-46cc-a46c-897e1cab3106",
   "metadata": {},
   "outputs": [],
   "source": [
    "# 1. Collect the data from Drive\n",
    "\n",
    "# Let's index in both master_df and triang_df (this is important for combine_first())\n",
    "master_df.set_index('Game Link', inplace=True)\n",
    "triang_df.set_index('Game Link', inplace=True)\n",
    "\n",
    "# Before fill the missing Game Genre values of master_df we have to drop duplicates of both dfs (Dup: exactly same rows)\n",
    "master_df.drop_duplicates(keep='last', inplace=True)\n",
    "triang_df.drop_duplicates(keep='last', inplace=True)\n",
    "master_df.reset_index(inplace=True)\n",
    "triang_df.reset_index(inplace=True)\n",
    "\n",
    "\n",
    "# Fill the missing values of Game Genre with the triang_df data\n",
    "master_df['Game Genre'] = master_df['Game Genre'].combine_first(triang_df['Main Genre'])\n",
    "\n",
    "\n",
    "# Remove rows with the same Game Link\n",
    "master_df = master_df.drop_duplicates(subset=['Game Link'])\n",
    "master_df.to_csv('clean_master_ct4all.csv')"
   ]
  },
  {
   "cell_type": "code",
   "execution_count": 43,
   "id": "aa661ac1-a0e3-4136-9ee2-a1d61ac460f3",
   "metadata": {
    "scrolled": true
   },
   "outputs": [
    {
     "ename": "KeyError",
     "evalue": "('Game Link', 'Game Genre')",
     "output_type": "error",
     "traceback": [
      "\u001b[0;31m---------------------------------------------------------------------------\u001b[0m",
      "\u001b[0;31mKeyError\u001b[0m                                  Traceback (most recent call last)",
      "File \u001b[0;32m/usr/local/lib/python3.9/site-packages/pandas/core/indexes/base.py:3805\u001b[0m, in \u001b[0;36mIndex.get_loc\u001b[0;34m(self, key)\u001b[0m\n\u001b[1;32m   3804\u001b[0m \u001b[38;5;28;01mtry\u001b[39;00m:\n\u001b[0;32m-> 3805\u001b[0m     \u001b[38;5;28;01mreturn\u001b[39;00m \u001b[38;5;28;43mself\u001b[39;49m\u001b[38;5;241;43m.\u001b[39;49m\u001b[43m_engine\u001b[49m\u001b[38;5;241;43m.\u001b[39;49m\u001b[43mget_loc\u001b[49m\u001b[43m(\u001b[49m\u001b[43mcasted_key\u001b[49m\u001b[43m)\u001b[49m\n\u001b[1;32m   3806\u001b[0m \u001b[38;5;28;01mexcept\u001b[39;00m \u001b[38;5;167;01mKeyError\u001b[39;00m \u001b[38;5;28;01mas\u001b[39;00m err:\n",
      "File \u001b[0;32mindex.pyx:167\u001b[0m, in \u001b[0;36mpandas._libs.index.IndexEngine.get_loc\u001b[0;34m()\u001b[0m\n",
      "File \u001b[0;32mindex.pyx:196\u001b[0m, in \u001b[0;36mpandas._libs.index.IndexEngine.get_loc\u001b[0;34m()\u001b[0m\n",
      "File \u001b[0;32mpandas/_libs/hashtable_class_helper.pxi:7081\u001b[0m, in \u001b[0;36mpandas._libs.hashtable.PyObjectHashTable.get_item\u001b[0;34m()\u001b[0m\n",
      "File \u001b[0;32mpandas/_libs/hashtable_class_helper.pxi:7089\u001b[0m, in \u001b[0;36mpandas._libs.hashtable.PyObjectHashTable.get_item\u001b[0;34m()\u001b[0m\n",
      "\u001b[0;31mKeyError\u001b[0m: ('Game Link', 'Game Genre')",
      "\nThe above exception was the direct cause of the following exception:\n",
      "\u001b[0;31mKeyError\u001b[0m                                  Traceback (most recent call last)",
      "Cell \u001b[0;32mIn[43], line 4\u001b[0m\n\u001b[1;32m      2\u001b[0m game_links \u001b[38;5;241m=\u001b[39m master_df[\u001b[38;5;124m'\u001b[39m\u001b[38;5;124mGame Link\u001b[39m\u001b[38;5;124m'\u001b[39m]\n\u001b[1;32m      3\u001b[0m game_genre \u001b[38;5;241m=\u001b[39m master_df[\u001b[38;5;124m'\u001b[39m\u001b[38;5;124mGame Genre\u001b[39m\u001b[38;5;124m'\u001b[39m]\n\u001b[0;32m----> 4\u001b[0m games_attr \u001b[38;5;241m=\u001b[39m \u001b[43mmaster_df\u001b[49m\u001b[43m[\u001b[49m\u001b[38;5;124;43m'\u001b[39;49m\u001b[38;5;124;43mGame Link\u001b[39;49m\u001b[38;5;124;43m'\u001b[39;49m\u001b[43m,\u001b[49m\u001b[38;5;124;43m'\u001b[39;49m\u001b[38;5;124;43mGame Genre\u001b[39;49m\u001b[38;5;124;43m'\u001b[39;49m\u001b[43m]\u001b[49m\n\u001b[1;32m      6\u001b[0m games_attr\u001b[38;5;241m.\u001b[39mdf\u001b[38;5;241m.\u001b[39mdropna(subset\u001b[38;5;241m=\u001b[39m[\u001b[38;5;124m'\u001b[39m\u001b[38;5;124mGame Link\u001b[39m\u001b[38;5;124m'\u001b[39m], inplace\u001b[38;5;241m=\u001b[39m\u001b[38;5;28;01mTrue\u001b[39;00m)\n\u001b[1;32m      7\u001b[0m game_links \u001b[38;5;241m=\u001b[39m game_links\u001b[38;5;241m.\u001b[39mastype(\u001b[38;5;28mstr\u001b[39m) \u001b[38;5;241m+\u001b[39m \u001b[38;5;124m\"\u001b[39m\u001b[38;5;124m/editor/\u001b[39m\u001b[38;5;124m\"\u001b[39m\n",
      "File \u001b[0;32m/usr/local/lib/python3.9/site-packages/pandas/core/frame.py:4102\u001b[0m, in \u001b[0;36mDataFrame.__getitem__\u001b[0;34m(self, key)\u001b[0m\n\u001b[1;32m   4100\u001b[0m \u001b[38;5;28;01mif\u001b[39;00m \u001b[38;5;28mself\u001b[39m\u001b[38;5;241m.\u001b[39mcolumns\u001b[38;5;241m.\u001b[39mnlevels \u001b[38;5;241m>\u001b[39m \u001b[38;5;241m1\u001b[39m:\n\u001b[1;32m   4101\u001b[0m     \u001b[38;5;28;01mreturn\u001b[39;00m \u001b[38;5;28mself\u001b[39m\u001b[38;5;241m.\u001b[39m_getitem_multilevel(key)\n\u001b[0;32m-> 4102\u001b[0m indexer \u001b[38;5;241m=\u001b[39m \u001b[38;5;28;43mself\u001b[39;49m\u001b[38;5;241;43m.\u001b[39;49m\u001b[43mcolumns\u001b[49m\u001b[38;5;241;43m.\u001b[39;49m\u001b[43mget_loc\u001b[49m\u001b[43m(\u001b[49m\u001b[43mkey\u001b[49m\u001b[43m)\u001b[49m\n\u001b[1;32m   4103\u001b[0m \u001b[38;5;28;01mif\u001b[39;00m is_integer(indexer):\n\u001b[1;32m   4104\u001b[0m     indexer \u001b[38;5;241m=\u001b[39m [indexer]\n",
      "File \u001b[0;32m/usr/local/lib/python3.9/site-packages/pandas/core/indexes/base.py:3812\u001b[0m, in \u001b[0;36mIndex.get_loc\u001b[0;34m(self, key)\u001b[0m\n\u001b[1;32m   3807\u001b[0m     \u001b[38;5;28;01mif\u001b[39;00m \u001b[38;5;28misinstance\u001b[39m(casted_key, \u001b[38;5;28mslice\u001b[39m) \u001b[38;5;129;01mor\u001b[39;00m (\n\u001b[1;32m   3808\u001b[0m         \u001b[38;5;28misinstance\u001b[39m(casted_key, abc\u001b[38;5;241m.\u001b[39mIterable)\n\u001b[1;32m   3809\u001b[0m         \u001b[38;5;129;01mand\u001b[39;00m \u001b[38;5;28many\u001b[39m(\u001b[38;5;28misinstance\u001b[39m(x, \u001b[38;5;28mslice\u001b[39m) \u001b[38;5;28;01mfor\u001b[39;00m x \u001b[38;5;129;01min\u001b[39;00m casted_key)\n\u001b[1;32m   3810\u001b[0m     ):\n\u001b[1;32m   3811\u001b[0m         \u001b[38;5;28;01mraise\u001b[39;00m InvalidIndexError(key)\n\u001b[0;32m-> 3812\u001b[0m     \u001b[38;5;28;01mraise\u001b[39;00m \u001b[38;5;167;01mKeyError\u001b[39;00m(key) \u001b[38;5;28;01mfrom\u001b[39;00m \u001b[38;5;21;01merr\u001b[39;00m\n\u001b[1;32m   3813\u001b[0m \u001b[38;5;28;01mexcept\u001b[39;00m \u001b[38;5;167;01mTypeError\u001b[39;00m:\n\u001b[1;32m   3814\u001b[0m     \u001b[38;5;66;03m# If we have a listlike key, _check_indexing_error will raise\u001b[39;00m\n\u001b[1;32m   3815\u001b[0m     \u001b[38;5;66;03m#  InvalidIndexError. Otherwise we fall through and re-raise\u001b[39;00m\n\u001b[1;32m   3816\u001b[0m     \u001b[38;5;66;03m#  the TypeError.\u001b[39;00m\n\u001b[1;32m   3817\u001b[0m     \u001b[38;5;28mself\u001b[39m\u001b[38;5;241m.\u001b[39m_check_indexing_error(key)\n",
      "\u001b[0;31mKeyError\u001b[0m: ('Game Link', 'Game Genre')"
     ]
    }
   ],
   "source": [
    "# 2. Extract *Game links* for batch-mode\n",
    "game_links = master_df['Game Link']\n",
    "game_genre = master_df['Game Genre']\n",
    "games_attr = master_df['Game Link','Game Genre']\n",
    "\n",
    "games_attr.dropna(subset=['Game Link'], inplace=True)\n",
    "game_links = game_links.astype(str) + \"/editor/\"\n",
    "game_links = game_links.str.replace('//', '/', regex=False)\n",
    "game_links.to_csv('batch_master_id.txt', index=False, header=False)\n",
    "\n",
    "game_genre.to_csv('game_genre_temp.txt', index=False, header=False)\n"
   ]
  },
  {
   "cell_type": "code",
   "execution_count": 42,
   "id": "10d29649-94d5-47ee-966e-c0e796c02835",
   "metadata": {},
   "outputs": [
    {
     "name": "stdout",
     "output_type": "stream",
     "text": [
      "(641,)\n",
      "(640,)\n",
      "                                                   URL  \\\n",
      "0    https:/scratch.mit.edu/projects/129150753/editor/   \n",
      "1    https:/scratch.mit.edu/projects/131382669/editor/   \n",
      "2    https:/scratch.mit.edu/projects/129532769/editor/   \n",
      "3    https:/scratch.mit.edu/projects/130705606/editor/   \n",
      "4    https:/scratch.mit.edu/projects/129151851/editor/   \n",
      "..                                                 ...   \n",
      "636  https:/scratch.mit.edu/projects/182648156/editor/   \n",
      "637  https:/scratch.mit.edu/projects/183065640/editor/   \n",
      "638  https:/scratch.mit.edu/projects/182196521/editor/   \n",
      "639  https:/scratch.mit.edu/projects/182188379/editor/   \n",
      "640  https:/scratch.mit.edu/projects/182376301/editor/   \n",
      "\n",
      "                              Name  \n",
      "0              Solar Radiation.sb3  \n",
      "1          Dat Boi Gets Around.sb3  \n",
      "2        Climate tower defense.sb3  \n",
      "3                   Untitled-3.sb3  \n",
      "4    Welcome to the Greenhouse.sb3  \n",
      "..                             ...  \n",
      "636               Time Is Fuel.sb3  \n",
      "637        Temperature Changes.sb3  \n",
      "638                 SpAcE pOnG.sb3  \n",
      "639                   Untitled.sb3  \n",
      "640             Carbon Catcher.sb3  \n",
      "\n",
      "[640 rows x 2 columns]\n"
     ]
    }
   ],
   "source": [
    "# Now we have to create a file with the url and his respective project name\n",
    "# this will be usefull por tringulate then with the metrics csv\n",
    "# NOTE: batch_master_id.txt are the urls and output_checker are the prjct names\n",
    "\n",
    "# Read output_checker.txt (this file contains file names in the same order as batch_master_id)\n",
    "file_path = 'output_checker'\n",
    "with open(file_path, 'r') as file:\n",
    "    names = file.readlines()\n",
    "\n",
    "# Remove \n",
    "names = [name.strip() for name in names]\n",
    "\n",
    "print(game_genre.shape)\n",
    "print(game_links.shape)\n",
    "\n",
    "url_name = pd.DataFrame({'URL': game_links, 'Name': names})\n",
    "\n",
    "# Mostrar el DataFrame\n",
    "print(url_name)\n",
    "\n"
   ]
  },
  {
   "cell_type": "code",
   "execution_count": null,
   "id": "df49edb3-1cd8-4ff5-a803-469817ba9fd3",
   "metadata": {},
   "outputs": [],
   "source": []
  }
 ],
 "metadata": {
  "kernelspec": {
   "display_name": "Python 3 (ipykernel)",
   "language": "python",
   "name": "python3"
  },
  "language_info": {
   "codemirror_mode": {
    "name": "ipython",
    "version": 3
   },
   "file_extension": ".py",
   "mimetype": "text/x-python",
   "name": "python",
   "nbconvert_exporter": "python",
   "pygments_lexer": "ipython3",
   "version": "3.9.19"
  }
 },
 "nbformat": 4,
 "nbformat_minor": 5
}
