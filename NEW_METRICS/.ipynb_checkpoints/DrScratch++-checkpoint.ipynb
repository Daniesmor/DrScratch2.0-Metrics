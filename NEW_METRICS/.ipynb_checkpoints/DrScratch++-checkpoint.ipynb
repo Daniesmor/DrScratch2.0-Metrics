{
 "cells": [
  {
   "cell_type": "markdown",
   "id": "8d70fdba-def8-4b59-9136-e9c11740fe9c",
   "metadata": {},
   "source": [
    "# DrScratch++ Metrics"
   ]
  },
  {
   "cell_type": "markdown",
   "id": "25ebd74a-b3c6-4e72-8f5f-a7c3e22e08ab",
   "metadata": {},
   "source": [
    "## Documentation"
   ]
  },
  {
   "cell_type": "markdown",
   "id": "d02a48c7-d6dd-4a90-9c4e-779d2c547fc0",
   "metadata": {},
   "source": [
    "### Steps for preproccess the data\n",
    "1. Collect the data from Drive\n",
    "   \n",
    "    1. I have taken the file **CT4ALL-Master Spreadsheet**, and then i have concatenated each tab (from Adamson to Chaffe Toulmin) in order to crate a single spreadsheet. The name of the file that storage this is: *CT4ALL-Master Spreadsheet.csv*\n",
    "    2. After this i have triangulated the master_df with the triang_df, **i have chosen the index *'Game Project Link'* instead of *'Project ID'* because there was projects  with game links and no IDs in the BIG_ct4all_master.csv**\n",
    "\n",
    "2. Extract *Game links* for batch-mode\n",
    "\n",
    "    1. "
   ]
  },
  {
   "cell_type": "code",
   "execution_count": 53,
   "id": "1988e900-6f5c-4a7c-8cde-9e6930a810f8",
   "metadata": {},
   "outputs": [],
   "source": [
    "import pandas as pd"
   ]
  },
  {
   "cell_type": "code",
   "execution_count": 57,
   "id": "2542d27a-ec65-46c9-95c2-824f0d632004",
   "metadata": {},
   "outputs": [],
   "source": [
    "master_df = pd.read_csv('CT4ALL-Master Spreadsheet.csv')\n",
    "triang_df = pd.read_csv('BIG_ct4all_master.csv')"
   ]
  },
  {
   "cell_type": "code",
   "execution_count": 58,
   "id": "ee6328db-ab95-46cc-a46c-897e1cab3106",
   "metadata": {},
   "outputs": [],
   "source": [
    "# 1. Collect the data from Drive\n",
    "\n",
    "# Let's index in both master_df and triang_df (this is important for combine_first())\n",
    "master_df.set_index('Game Link', inplace=True)\n",
    "triang_df.set_index('Game Link', inplace=True)\n",
    "\n",
    "# Before fill the missing Game Genre values of master_df we have to drop duplicates of both dfs\n",
    "master_df.drop_duplicates(keep='last', inplace=True)\n",
    "triang_df.drop_duplicates(keep='last', inplace=True)\n",
    "master_df.reset_index(inplace=True)\n",
    "triang_df.reset_index(inplace=True)\n",
    "\n",
    "\n",
    "# Fill the missing values of Game Genre with the triang_df data\n",
    "master_df['Game Genre'] = master_df['Game Genre'].combine_first(triang_df['Main Genre'])\n",
    "master_df.to_csv('clean_master_ct4all.csv')"
   ]
  },
  {
   "cell_type": "code",
   "execution_count": 60,
   "id": "aa661ac1-a0e3-4136-9ee2-a1d61ac460f3",
   "metadata": {},
   "outputs": [],
   "source": [
    "# 2. Extract *Game links* for batch-mode\n",
    "game_links = master_df['Game Link']\n",
    "\n",
    "game_links.dropna(inplace=True)\n",
    "master_df['Game Link'].to_csv('batch.txt', index=False, header=False)\n",
    "\n",
    "game_links.to_csv('game_links.csv')"
   ]
  },
  {
   "cell_type": "code",
   "execution_count": null,
   "id": "10d29649-94d5-47ee-966e-c0e796c02835",
   "metadata": {},
   "outputs": [],
   "source": []
  }
 ],
 "metadata": {
  "kernelspec": {
   "display_name": "Python 3 (ipykernel)",
   "language": "python",
   "name": "python3"
  },
  "language_info": {
   "codemirror_mode": {
    "name": "ipython",
    "version": 3
   },
   "file_extension": ".py",
   "mimetype": "text/x-python",
   "name": "python",
   "nbconvert_exporter": "python",
   "pygments_lexer": "ipython3",
   "version": "3.9.19"
  }
 },
 "nbformat": 4,
 "nbformat_minor": 5
}
