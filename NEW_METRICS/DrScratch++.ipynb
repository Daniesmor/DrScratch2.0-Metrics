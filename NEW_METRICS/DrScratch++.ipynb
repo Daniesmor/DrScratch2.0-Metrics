{
 "cells": [
  {
   "cell_type": "markdown",
   "id": "8d70fdba-def8-4b59-9136-e9c11740fe9c",
   "metadata": {},
   "source": [
    "# DrScratch++ Metrics"
   ]
  },
  {
   "cell_type": "markdown",
   "id": "25ebd74a-b3c6-4e72-8f5f-a7c3e22e08ab",
   "metadata": {},
   "source": [
    "## Documentation"
   ]
  },
  {
   "cell_type": "markdown",
   "id": "d02a48c7-d6dd-4a90-9c4e-779d2c547fc0",
   "metadata": {},
   "source": [
    "### Steps for preproccess the data\n",
    "1. Collect the data from Drive\n",
    "   \n",
    "    1. I have taken the file **CT4ALL-Master Spreadsheet**, and then i have concatenated each tab (from Adamson to Chaffe Toulmin) in order to crate a single spreadsheet. The name of the file that storage this is: *CT4ALL-Master Spreadsheet.csv*\n",
    "    2. After this i have triangulated the master_df with the triang_df, **i have chosen the index *'Game Project Link'* instead of *'Project ID'* because there was projects  with game links and no IDs in the BIG_ct4all_master.csv**\n",
    "\n",
    "2. Extract *Game links* for batch-mode\n",
    "\n",
    "    1. Saved in file **batch_master_links.txt**\n",
    "        - There are several projects with diferent urls but same project names, we have follow the indications add (1).sb3, (2).sb3 etc...\n",
    "  \n",
    "3. After download projects, create a csv with the each url and his project name. (This it's necessary for triangulate with the metrics csv from DrScratch analysis, i mean each url with own name and result\n",
    "\n",
    "   "
   ]
  },
  {
   "cell_type": "code",
   "execution_count": 1,
   "id": "1988e900-6f5c-4a7c-8cde-9e6930a810f8",
   "metadata": {},
   "outputs": [],
   "source": [
    "import pandas as pd"
   ]
  },
  {
   "cell_type": "code",
   "execution_count": 2,
   "id": "2542d27a-ec65-46c9-95c2-824f0d632004",
   "metadata": {},
   "outputs": [],
   "source": [
    "master_df = pd.read_csv('CT4ALL-Master Spreadsheet.csv')\n",
    "triang_df = pd.read_csv('BIG_ct4all_master.csv')"
   ]
  },
  {
   "cell_type": "code",
   "execution_count": 17,
   "id": "ee6328db-ab95-46cc-a46c-897e1cab3106",
   "metadata": {},
   "outputs": [],
   "source": [
    "# 1. Collect the data from Drive\n",
    "\n",
    "# Let's index in both master_df and triang_df (this is important for combine_first())\n",
    "master_df.set_index('Game Link', inplace=True)\n",
    "triang_df.set_index('Game Link', inplace=True)\n",
    "\n",
    "# Before fill the missing Game Genre values of master_df we have to drop duplicates of both dfs (Dup: exactly same rows)\n",
    "master_df.drop_duplicates(keep='last', inplace=True)\n",
    "triang_df.drop_duplicates(keep='last', inplace=True)\n",
    "master_df.reset_index(inplace=True)\n",
    "triang_df.reset_index(inplace=True)\n",
    "\n",
    "\n",
    "# Fill the missing values of Game Genre with the triang_df data\n",
    "master_df['Game Genre'] = master_df['Game Genre'].combine_first(triang_df['Main Genre'])\n",
    "\n",
    "# Remove rows with the same Game Link\n",
    "master_df = master_df.drop_duplicates(subset=['Game Link'])\n",
    "master_df.to_csv('clean_master_ct4all.csv')"
   ]
  },
  {
   "cell_type": "code",
   "execution_count": 19,
   "id": "aa661ac1-a0e3-4136-9ee2-a1d61ac460f3",
   "metadata": {
    "scrolled": true
   },
   "outputs": [],
   "source": [
    "# 2. Extract *Game links* for batch-mode\n",
    "game_links = master_df['Game Link']\n",
    "game_links.dropna(inplace=True)\n",
    "game_links = game_links.astype(str) + \"/editor/\"\n",
    "game_links = game_links.str.replace('//', '/', regex=False)\n",
    "game_links.to_csv('batch_master_id.txt', index=False, header=False)\n",
    "\n"
   ]
  },
  {
   "cell_type": "code",
   "execution_count": 20,
   "id": "10d29649-94d5-47ee-966e-c0e796c02835",
   "metadata": {},
   "outputs": [
    {
     "name": "stdout",
     "output_type": "stream",
     "text": [
      "                                                   URL  \\\n",
      "0    https:/scratch.mit.edu/projects/129150753/editor/   \n",
      "1    https:/scratch.mit.edu/projects/131382669/editor/   \n",
      "2    https:/scratch.mit.edu/projects/129532769/editor/   \n",
      "3    https:/scratch.mit.edu/projects/130705606/editor/   \n",
      "4    https:/scratch.mit.edu/projects/129151851/editor/   \n",
      "..                                                 ...   \n",
      "636  https:/scratch.mit.edu/projects/182648156/editor/   \n",
      "637  https:/scratch.mit.edu/projects/183065640/editor/   \n",
      "638  https:/scratch.mit.edu/projects/182196521/editor/   \n",
      "639  https:/scratch.mit.edu/projects/182188379/editor/   \n",
      "640  https:/scratch.mit.edu/projects/182376301/editor/   \n",
      "\n",
      "                              Name  \n",
      "0              Solar Radiation.sb3  \n",
      "1          Dat Boi Gets Around.sb3  \n",
      "2        Climate tower defense.sb3  \n",
      "3                   Untitled-3.sb3  \n",
      "4    Welcome to the Greenhouse.sb3  \n",
      "..                             ...  \n",
      "636               Time Is Fuel.sb3  \n",
      "637        Temperature Changes.sb3  \n",
      "638                 SpAcE pOnG.sb3  \n",
      "639                   Untitled.sb3  \n",
      "640             Carbon Catcher.sb3  \n",
      "\n",
      "[640 rows x 2 columns]\n"
     ]
    }
   ],
   "source": [
    "# Now we have to create a file with the url and his respective project name\n",
    "# this will be usefull por tringulate then with the metrics csv\n",
    "# NOTE: batch_master_id.txt are the urls and output_checker are the prjct names\n",
    "\n",
    "# Read output_checker.txt (this file contains file names in the same order as batch_master_id)\n",
    "file_path = 'output_checker'\n",
    "with open(file_path, 'r') as file:\n",
    "    names = file.readlines()\n",
    "\n",
    "# Remove \n",
    "names = [name.strip() for name in names]\n",
    "\n",
    "url_name = pd.DataFrame({'URL': game_links, 'Name': names})\n",
    "# Mostrar el DataFrame\n",
    "print(url_name)\n",
    "\n"
   ]
  },
  {
   "cell_type": "code",
   "execution_count": null,
   "id": "df49edb3-1cd8-4ff5-a803-469817ba9fd3",
   "metadata": {},
   "outputs": [],
   "source": []
  }
 ],
 "metadata": {
  "kernelspec": {
   "display_name": "Python 3 (ipykernel)",
   "language": "python",
   "name": "python3"
  },
  "language_info": {
   "codemirror_mode": {
    "name": "ipython",
    "version": 3
   },
   "file_extension": ".py",
   "mimetype": "text/x-python",
   "name": "python",
   "nbconvert_exporter": "python",
   "pygments_lexer": "ipython3",
   "version": "3.9.19"
  }
 },
 "nbformat": 4,
 "nbformat_minor": 5
}
